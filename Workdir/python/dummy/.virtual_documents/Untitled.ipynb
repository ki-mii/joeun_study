from faker import Faker
import random
import pandas as pd

fake = Faker('ko_KR')
Faker.seed(1)

repeat_count = 1000

name = [fake.unique.name() for i in range(repeat_count)]
phone = [('010-'+str(random.randint(1, 9999)).zfill(4)+'-'+str(random.randint(1, 9999)).zfill(4)) for i in range(repeat_count)]
user_status	= ['active' for i in range(repeat_count)]
user_class = [random.choice(['일반','Family', 'VIP', 'VVIP']) for i in range(repeat_count)]
email	= [fake.unique.free_email() for i in range(repeat_count)]
marketing_agree = [random.choice(['0','1']) for i in range(repeat_count)]
social_login = [random.choice(['google','facebook','kakao','naver']) for i in range(repeat_count)]
last_logged_at = [fake.date_time_between(start_date = '-1y', end_date ='now') for i in range(repeat_count)]
created_at = [fake.date_between(start_date = '-2y', end_date ='-1y') for i in range(repeat_count)]
address = [fake.address() for i in range(repeat_count)]
address_detail = [fake.address_detail() for i in range(repeat_count)]

df = pd.DataFrame()
df['name'] = name
df['phone'] = phone
df['address'] = address
df['address_detail'] = address_detail
df['user_status'] = user_status
df['user_class'] = user_class
df['email'] = email
df['marketing_agree'] = marketing_agree
df['social_login'] = social_login
df['last_logged_at'] = last_logged_at
df['created_at'] = created_at

print(df)

#df.to_csv("user.csv", index=False)



